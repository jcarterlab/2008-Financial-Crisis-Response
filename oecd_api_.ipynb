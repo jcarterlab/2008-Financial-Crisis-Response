{
 "cells": [
  {
   "cell_type": "markdown",
   "id": "edf21159-6d82-4411-a3b3-169fd6be9d5f",
   "metadata": {},
   "source": [
    "# OECD API"
   ]
  },
  {
   "cell_type": "markdown",
   "id": "04d69417-b481-44d8-a480-4643e634472e",
   "metadata": {},
   "source": [
    "The OECD API is used to collect data on interest rates and money supply for the OECD countries."
   ]
  },
  {
   "cell_type": "code",
   "execution_count": 1,
   "id": "ae0fd95e-2c1c-4cbd-bf29-cdd6bb68e890",
   "metadata": {},
   "outputs": [],
   "source": [
    "import pandas as pd\n",
    "\n",
    "# lists the codes of counties we want data from\n",
    "country_codes = [\n",
    "    'AUS', 'AUT', 'BEL', 'CAN', 'CZE', 'DNK', 'FIN', 'FRA', 'DEU',\n",
    "    'GRC', 'HUN', 'ISL', 'IRL', 'ITA', 'JPN', 'KOR', 'LUX', 'MEX',\n",
    "    'NLD', 'NZL', 'NOR', 'POL', 'PRT', 'SVK', 'ESP', 'SWE', 'CHE',\n",
    "    'TUR', 'GBR', 'USA', 'ARG', 'BRA', 'CHL', 'EST', 'IND', 'IDN',\n",
    "    'ISR', 'RUS', 'SAU', 'SVN', 'ZAF', 'LVA', 'COL', 'LTU', 'CRI',\n",
    "    'BGR', 'ROU', 'HRV'\n",
    "]\n",
    "\n",
    "# returns quarterly data on long-term interest rates as a pandas dataframe\n",
    "def oecd_request(dataset, country_codes, time_period):\n",
    "    return pd.read_csv(\n",
    "        f\"https://stats.oecd.org/SDMX-JSON/data/{dataset}.{country_codes}.{time_period}/OECD?contentType=csv\",\n",
    "        low_memory=False\n",
    "    )\n",
    "\n",
    "def retrieve_and_save(name, dataset, country_codes, time_period):\n",
    "    data = oecd_request(dataset, '+'.join(country_codes), time_period) # retrieves the data rates\n",
    "    data.to_csv(name + '.csv', index=False) # saves the data to a csv file\n",
    "    print(data.head()) # displays the data"
   ]
  },
  {
   "cell_type": "markdown",
   "id": "14c313fa-57cc-42f1-bd29-7d9102878c24",
   "metadata": {},
   "source": [
    "## Interest rates"
   ]
  },
  {
   "cell_type": "markdown",
   "id": "c2db2125-4611-417d-92fb-351685992600",
   "metadata": {},
   "source": [
    "Collects and saves data on interest rates for all OECD countries."
   ]
  },
  {
   "cell_type": "code",
   "execution_count": 2,
   "id": "d42cda6d-879f-42a7-bae4-7b0b504fd550",
   "metadata": {},
   "outputs": [
    {
     "name": "stdout",
     "output_type": "stream",
     "text": [
      "  SUBJECT                                        Subject LOCATION    Country  \\\n",
      "0  IR3TIB  Short-term interest rates, Per cent per annum      AUS  Australia   \n",
      "1  IR3TIB  Short-term interest rates, Per cent per annum      AUS  Australia   \n",
      "2  IR3TIB  Short-term interest rates, Per cent per annum      AUS  Australia   \n",
      "3  IR3TIB  Short-term interest rates, Per cent per annum      AUS  Australia   \n",
      "4  IR3TIB  Short-term interest rates, Per cent per annum      AUS  Australia   \n",
      "\n",
      "  FREQUENCY  Frequency     TIME     Time Unit Code        Unit  \\\n",
      "0         Q  Quarterly  1968-Q1  Q1-1968        PC  Percentage   \n",
      "1         Q  Quarterly  1968-Q2  Q2-1968        PC  Percentage   \n",
      "2         Q  Quarterly  1968-Q3  Q3-1968        PC  Percentage   \n",
      "3         Q  Quarterly  1968-Q4  Q4-1968        PC  Percentage   \n",
      "4         Q  Quarterly  1969-Q1  Q1-1969        PC  Percentage   \n",
      "\n",
      "   PowerCode Code PowerCode  Reference Period Code  Reference Period  \\\n",
      "0               0     Units                    NaN               NaN   \n",
      "1               0     Units                    NaN               NaN   \n",
      "2               0     Units                    NaN               NaN   \n",
      "3               0     Units                    NaN               NaN   \n",
      "4               0     Units                    NaN               NaN   \n",
      "\n",
      "      Value Flag Codes Flags  \n",
      "0  5.133333        NaN   NaN  \n",
      "1  5.316667        NaN   NaN  \n",
      "2  5.083333        NaN   NaN  \n",
      "3  4.933333        NaN   NaN  \n",
      "4  5.116667        NaN   NaN  \n"
     ]
    }
   ],
   "source": [
    "retrieve_and_save(name='interest_rates', dataset='MEI_FIN/IR3TIB', country_codes=country_codes, time_period='Q')"
   ]
  },
  {
   "cell_type": "markdown",
   "id": "df2f17ec-3a3f-49a9-b342-b099be3f5589",
   "metadata": {},
   "source": [
    "## Money supply"
   ]
  },
  {
   "cell_type": "markdown",
   "id": "49e45283-d303-4aee-b9e2-a44599bfa982",
   "metadata": {},
   "source": [
    "Collects and saves index data on M1 money supply for all OECD countries."
   ]
  },
  {
   "cell_type": "code",
   "execution_count": 3,
   "id": "36182078-a6d0-4f6b-8c2a-5a9e43e7e0e9",
   "metadata": {},
   "outputs": [
    {
     "name": "stdout",
     "output_type": "stream",
     "text": [
      "  SUBJECT                      Subject LOCATION    Country FREQUENCY  \\\n",
      "0    MANM  Narrow Money (M1) Index, SA      AUS  Australia         Q   \n",
      "1    MANM  Narrow Money (M1) Index, SA      AUS  Australia         Q   \n",
      "2    MANM  Narrow Money (M1) Index, SA      AUS  Australia         Q   \n",
      "3    MANM  Narrow Money (M1) Index, SA      AUS  Australia         Q   \n",
      "4    MANM  Narrow Money (M1) Index, SA      AUS  Australia         Q   \n",
      "\n",
      "   Frequency     TIME     Time Unit Code   Unit  PowerCode Code PowerCode  \\\n",
      "0  Quarterly  1960-Q3  Q3-1960       IDX  Index               0     Units   \n",
      "1  Quarterly  1960-Q4  Q4-1960       IDX  Index               0     Units   \n",
      "2  Quarterly  1961-Q1  Q1-1961       IDX  Index               0     Units   \n",
      "3  Quarterly  1961-Q2  Q2-1961       IDX  Index               0     Units   \n",
      "4  Quarterly  1961-Q3  Q3-1961       IDX  Index               0     Units   \n",
      "\n",
      "  Reference Period Code Reference Period     Value  Flag Codes  Flags  \n",
      "0              2015_100         2015=100  0.522507         NaN    NaN  \n",
      "1              2015_100         2015=100  0.518222         NaN    NaN  \n",
      "2              2015_100         2015=100  0.496436         NaN    NaN  \n",
      "3              2015_100         2015=100  0.489942         NaN    NaN  \n",
      "4              2015_100         2015=100  0.487768         NaN    NaN  \n"
     ]
    }
   ],
   "source": [
    "retrieve_and_save(name='money_supply', dataset='MEI_FIN/MANM', country_codes=country_codes, time_period='Q')"
   ]
  }
 ],
 "metadata": {
  "kernelspec": {
   "display_name": "Python 3 (ipykernel)",
   "language": "python",
   "name": "python3"
  },
  "language_info": {
   "codemirror_mode": {
    "name": "ipython",
    "version": 3
   },
   "file_extension": ".py",
   "mimetype": "text/x-python",
   "name": "python",
   "nbconvert_exporter": "python",
   "pygments_lexer": "ipython3",
   "version": "3.11.7"
  }
 },
 "nbformat": 4,
 "nbformat_minor": 5
}
